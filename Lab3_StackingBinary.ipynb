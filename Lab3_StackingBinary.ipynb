{
  "nbformat": 4,
  "nbformat_minor": 0,
  "metadata": {
    "colab": {
      "provenance": []
    },
    "kernelspec": {
      "name": "python3",
      "display_name": "Python 3"
    },
    "language_info": {
      "name": "python"
    }
  },
  "cells": [
    {
      "cell_type": "markdown",
      "source": [
        "Выполнила Мария Минина, БКЛ221"
      ],
      "metadata": {
        "id": "-pnkH1WL7GHo"
      }
    },
    {
      "cell_type": "markdown",
      "source": [
        "**Задание:** написать программу на основе автомата со стеком, понимающую на вход цепочку из 0 и 1, и выводящую сперва все 0, а потом все 1."
      ],
      "metadata": {
        "id": "PDFfw4PL69LX"
      }
    },
    {
      "cell_type": "markdown",
      "source": [
        "Реализуем автомат со стеком"
      ],
      "metadata": {
        "id": "WCtNTS-i4xMI"
      }
    },
    {
      "cell_type": "code",
      "source": [
        "def fsa_process(input_string):\n",
        "    # Базовый переход\n",
        "    trans = {'0': 'q0', '1': 'q1', '$': 'qf'}\n",
        "    # Определяем состояния\n",
        "    states = {\n",
        "        'qs': trans,\n",
        "        'q0': trans,\n",
        "        'q1': trans,\n",
        "        'qf': {}\n",
        "    }\n",
        "\n",
        "    # Задаём начальное состояние\n",
        "    current_state = 'qs'\n",
        "\n",
        "    #Инициализируем стэк\n",
        "    stack = []\n",
        "\n",
        "    # Добавим символ окончания строки\n",
        "    input_string += '$'\n",
        "\n",
        "    # Обрабатываем строку\n",
        "    for char in input_string:\n",
        "        if current_state == 'qf':\n",
        "            break\n",
        "        if char in states[current_state]:\n",
        "            current_state = states[current_state][char]\n",
        "            stack.append(char)\n",
        "        else:\n",
        "            raise ValueError(f\"Invalid input character '{char}' for state '{current_state}'\")\n",
        "\n",
        "    # Отделим 0 от 1\n",
        "    zeros = [c for c in stack if c == '0']\n",
        "    ones = [c for c in stack if c == '1']\n",
        "\n",
        "    # Возвращаем результат\n",
        "    return ''.join(zeros + ones)"
      ],
      "metadata": {
        "id": "f69rRgr-0yD2"
      },
      "execution_count": 27,
      "outputs": []
    },
    {
      "cell_type": "markdown",
      "source": [
        "Выведем аккуратно и красиво"
      ],
      "metadata": {
        "id": "sUylfxo65z1_"
      }
    },
    {
      "cell_type": "code",
      "source": [
        "def formatted_interaction(input_string):\n",
        "  print(f\"Input: {input_string}\")\n",
        "  output_string = fsa_process(input_string)\n",
        "  print(f\"Output: {output_string}\")"
      ],
      "metadata": {
        "id": "DpY8YxqG4dpq"
      },
      "execution_count": 28,
      "outputs": []
    },
    {
      "cell_type": "markdown",
      "source": [
        "Примеры работы"
      ],
      "metadata": {
        "id": "6mRWzZcN54TW"
      }
    },
    {
      "cell_type": "code",
      "source": [
        "formatted_interaction(\"11101000010101010101\")"
      ],
      "metadata": {
        "colab": {
          "base_uri": "https://localhost:8080/"
        },
        "id": "wsG48ljM58Iy",
        "outputId": "5682c379-15c2-4349-cd3d-428cf6009fab"
      },
      "execution_count": 29,
      "outputs": [
        {
          "output_type": "stream",
          "name": "stdout",
          "text": [
            "Input: 11101000010101010101\n",
            "Output: 00000000001111111111\n"
          ]
        }
      ]
    },
    {
      "cell_type": "code",
      "source": [
        "formatted_interaction(\"11110000000101010101010101101010101010100\")"
      ],
      "metadata": {
        "colab": {
          "base_uri": "https://localhost:8080/"
        },
        "id": "ow749Tlu6hkF",
        "outputId": "a6273def-1cfe-446e-9ad3-2ccaeb05409e"
      },
      "execution_count": 30,
      "outputs": [
        {
          "output_type": "stream",
          "name": "stdout",
          "text": [
            "Input: 11110000000101010101010101101010101010100\n",
            "Output: 00000000000000000000001111111111111111111\n"
          ]
        }
      ]
    },
    {
      "cell_type": "code",
      "source": [
        "formatted_interaction(\"1111000000010101010$1010101101010101010100\")"
      ],
      "metadata": {
        "colab": {
          "base_uri": "https://localhost:8080/"
        },
        "id": "pW03QPPY7fKt",
        "outputId": "0584be47-b127-4ac9-da07-cf4750a1313f"
      },
      "execution_count": 31,
      "outputs": [
        {
          "output_type": "stream",
          "name": "stdout",
          "text": [
            "Input: 1111000000010101010$1010101101010101010100\n",
            "Output: 0000000000011111111\n"
          ]
        }
      ]
    },
    {
      "cell_type": "markdown",
      "source": [
        "[Здесь](https://colab.research.google.com/drive/1FfhtdBIvFvgC_ClT4NUvPL0oqpn_sv3s?usp=sharing) лежит попытка транслитератора для валлийского. Она скоро оживёт (just in case...)"
      ],
      "metadata": {
        "id": "Tl-rw6AT9dgv"
      }
    }
  ]
}