{
  "nbformat": 4,
  "nbformat_minor": 0,
  "metadata": {
    "colab": {
      "provenance": []
    },
    "kernelspec": {
      "name": "python3",
      "display_name": "Python 3"
    },
    "language_info": {
      "name": "python"
    }
  },
  "cells": [
    {
      "cell_type": "markdown",
      "source": [
        "Дан текст на естественном языке. Построить обратный словарь данного текста, хранимый в форме префиксного дерева. Для хранения индекса на каждом уровне использовать двоичное дерево."
      ],
      "metadata": {
        "id": "aTY649RZl8ED"
      }
    },
    {
      "cell_type": "markdown",
      "source": [
        "---\n",
        "## Префиксное дерево"
      ],
      "metadata": {
        "id": "Rv4bwn-KBu0V"
      }
    },
    {
      "cell_type": "markdown",
      "source": [
        "Создадим классы узлов дерева и самих деревьев.\n",
        "\n",
        "`TrieNode` - узел в префиксном дереве.\n",
        "\n",
        "У узла есть два поля: словарь потомков и дерево индексов."
      ],
      "metadata": {
        "id": "1NIl23Vm5LND"
      }
    },
    {
      "cell_type": "code",
      "source": [
        "class TrieNode:\n",
        "    def __init__(self):\n",
        "        self.children = {}\n",
        "        self.indices = BinarySearchTree()"
      ],
      "metadata": {
        "id": "nD2NRoSc4gMA"
      },
      "execution_count": null,
      "outputs": []
    },
    {
      "cell_type": "markdown",
      "source": [
        "`Trie` - обозначает префисксное дерево, хранит его корневой узел. Метод `insert` вставляет в дерево слово с соответствующим индексом."
      ],
      "metadata": {
        "id": "eiOeYeTm6ckF"
      }
    },
    {
      "cell_type": "code",
      "source": [
        "class Trie:\n",
        "    def __init__(self):\n",
        "        self.root = TrieNode()\n",
        "\n",
        "    def insert(self, word, index):\n",
        "        node = self.root\n",
        "        for char in reversed(word):\n",
        "            if char not in node.children:\n",
        "                node.children[char] = TrieNode()\n",
        "            node = node.children[char]\n",
        "        node.indices.insert(index)"
      ],
      "metadata": {
        "id": "2WzwUv-b4f7I"
      },
      "execution_count": null,
      "outputs": []
    },
    {
      "cell_type": "markdown",
      "source": [
        "---\n",
        "\n",
        "## Бинарное дерево\n",
        "\n",
        "Используется для хранения индекса, `BinarySearchTreeNode` - класс вершины дерева. `BinarySearchTree` хранит корневую вершину, предоставляет функции для вставки элемента и для преобразования в список"
      ],
      "metadata": {
        "id": "hSt1zjNE9ZHv"
      }
    },
    {
      "cell_type": "code",
      "source": [
        "class BinarySearchTreeNode:\n",
        "    def __init__(self, key):\n",
        "        self.left = None\n",
        "        self.right = None\n",
        "        self.value = key"
      ],
      "metadata": {
        "id": "qqXLKXzE4lr-"
      },
      "execution_count": null,
      "outputs": []
    },
    {
      "cell_type": "code",
      "source": [
        "class BinarySearchTree:\n",
        "    def __init__(self):\n",
        "        self.root = None\n",
        "\n",
        "    def insert(self, key):\n",
        "        if self.root is None:\n",
        "            self.root = BinarySearchTreeNode(key)\n",
        "        else:\n",
        "            self._insert(self.root, key)\n",
        "\n",
        "    def _insert(self, root, key):\n",
        "        if key < root.value:\n",
        "            if root.left is None:\n",
        "                root.left = BinarySearchTreeNode(key)\n",
        "            else:\n",
        "                self._insert(root.left, key)\n",
        "        else:\n",
        "            if root.right is None:\n",
        "                root.right = BinarySearchTreeNode(key)\n",
        "            else:\n",
        "                self._insert(root.right, key)\n",
        "\n",
        "    def inorder(self):\n",
        "        return self._inorder(self.root)\n",
        "\n",
        "    def _inorder(self, root):\n",
        "        result = []\n",
        "        if root:\n",
        "            result = self._inorder(root.left)\n",
        "            result.append(root.value)\n",
        "            result = result + self._inorder(root.right)\n",
        "        return result"
      ],
      "metadata": {
        "id": "043LU56S4nhO"
      },
      "execution_count": null,
      "outputs": []
    },
    {
      "cell_type": "markdown",
      "source": [
        "---\n",
        "\n",
        "## Построение обратного словаря\n",
        "\n",
        "Разбиваем текст на слова, и каждое слово вставляем в словарь"
      ],
      "metadata": {
        "id": "jVO293NJ-Rfm"
      }
    },
    {
      "cell_type": "code",
      "source": [
        "def build_reverse_dictionary(text):\n",
        "    trie = Trie()\n",
        "    words = text.split()\n",
        "    for index, word in enumerate(words):\n",
        "        trie.insert(word, index)\n",
        "    return trie"
      ],
      "metadata": {
        "id": "fGdkkhbl4ww_"
      },
      "execution_count": null,
      "outputs": []
    },
    {
      "cell_type": "markdown",
      "source": [
        "## Визуализация"
      ],
      "metadata": {
        "id": "J5mAky2CDQOb"
      }
    },
    {
      "cell_type": "code",
      "source": [
        "def print_trie(trie):\n",
        "    def _print_node(node, word):\n",
        "        if node.indices.root is not None:\n",
        "            indices = node.indices.inorder()\n",
        "            print(f'Word: {word[::-1]}, Indices: {indices}')\n",
        "        for char, child in node.children.items():\n",
        "            _print_node(child, word + char)\n",
        "    _print_node(trie.root, '')"
      ],
      "metadata": {
        "id": "mXYprpohuEJH"
      },
      "execution_count": null,
      "outputs": []
    },
    {
      "cell_type": "markdown",
      "source": [
        "## Пример использования"
      ],
      "metadata": {
        "id": "aTgAOqPjDNI6"
      }
    },
    {
      "cell_type": "code",
      "source": [
        "text = (\"Постройку свою я завершил, и вроде бы она удалась. Снаружи ничего не видно, кроме большого лаза, \"\n",
        "        \"но на самом-то деле он никуда не ведет – через пару шагов упираешься в камень. Не стану хвалить себя за эту \"\n",
        "        \"мнимую хитрость: дыра осталась после многих тщетных попыток что-то тут соорудить, и в конце концов я решил \"\n",
        "        \"одну из дыр оставить незасыпанной. А то ведь, неровен час, перехитришь себя самого, я-то это умею, \"\n",
        "        \"а в данном случае, упирая на особое значение этой дыры, можно создать смелое, но ложное впечатление, \"\n",
        "        \"будто за ней кроется нечто достойное обследования. Ошибется тот, кто подумает, будто я трусоват и только \"\n",
        "        \"из трусости затеял свою постройку. Шагов за тысячу от этого отверстия находится, прикрытый мхами, \"\n",
        "        \"настоящий вход в мое жилище, вход надежный – насколько может быть надежным что-либо на свете; разве что \"\n",
        "        \"наступит на мох кто-нибудь в этом месте и провалится, тогда, конечно, жилье мое откроется, а при желании – \"\n",
        "        \"и при известной, не так уж часто встречающейся сноровке – в него можно будет проникнуть и все тут порушить. \"\n",
        "        \"Мне это ясно, так что даже теперь, достигнув всего, я часа не ведаю вполне спокойного; я ведь знаю, \"\n",
        "        \"что уязвим: по ночам в полусне то и дело мерещатся мне оскаленные хищные морды, рыщущие над моим покровом, \"\n",
        "        \"сотканным из мха. Я бы мог, скажут мне, засыпать входное отверстие сверху тонким слоем крепкого щебня, \"\n",
        "        \"а пониже слоем рыхлой земли, чтобы, если понадобится, скоренько раскопать выход. Однако это-то и невозможно; \"\n",
        "        \"как раз предосторожность требует оставить себе возможность мгновенного бегства на свободу, \"\n",
        "        \"как раз предосторожность требует – как это, увы, слишком часто бывает – жить с риском для жизни. От таких \"\n",
        "        \"расчетов кругом идет голова, и только восторг от собственной расчетливости понуждает их продолжать.\")\n",
        "trie = build_reverse_dictionary(text)\n",
        "print_trie(trie)"
      ],
      "metadata": {
        "colab": {
          "base_uri": "https://localhost:8080/"
        },
        "id": "xjUWy7ZH40pm",
        "outputId": "2a029338-a395-49df-bb31-5aee19cf216c"
      },
      "execution_count": 8,
      "outputs": [
        {
          "output_type": "stream",
          "name": "stdout",
          "text": [
            "Word: Постройку, Indices: [0]\n",
            "Word: пару, Indices: [26]\n",
            "Word: стану, Indices: [32]\n",
            "Word: одну, Indices: [54]\n",
            "Word: эту, Indices: [36]\n",
            "Word: тысячу, Indices: [109]\n",
            "Word: сверху, Indices: [217]\n",
            "Word: свою, Indices: [1, 105]\n",
            "Word: мнимую, Indices: [37]\n",
            "Word: ведаю, Indices: [182]\n",
            "Word: я, Indices: [2, 52, 98, 179, 185]\n",
            "Word: упираешься, Indices: [28]\n",
            "Word: кроется, Indices: [89]\n",
            "Word: Ошибется, Indices: [93]\n",
            "Word: мерещатся, Indices: [197]\n",
            "Word: встречающейся, Indices: [158]\n",
            "Word: себя, Indices: [34, 65]\n",
            "Word: упирая, Indices: [74]\n",
            "Word: отверстия, Indices: [112]\n",
            "Word: для, Indices: [263]\n",
            "Word: завершил,, Indices: [3]\n",
            "Word: видно,, Indices: [12]\n",
            "Word: конечно,, Indices: [143]\n",
            "Word: ясно,, Indices: [172]\n",
            "Word: самого,, Indices: [66]\n",
            "Word: всего,, Indices: [178]\n",
            "Word: это,, Indices: [254]\n",
            "Word: лаза,, Indices: [15]\n",
            "Word: тогда,, Indices: [142]\n",
            "Word: голова,, Indices: [270]\n",
            "Word: соорудить,, Indices: [47]\n",
            "Word: ведь,, Indices: [61]\n",
            "Word: теперь,, Indices: [176]\n",
            "Word: час,, Indices: [63]\n",
            "Word: умею,, Indices: [69]\n",
            "Word: знаю,, Indices: [187]\n",
            "Word: случае,, Indices: [73]\n",
            "Word: смелое,, Indices: [82]\n",
            "Word: впечатление,, Indices: [85]\n",
            "Word: жилище,, Indices: [120]\n",
            "Word: мне,, Indices: [213]\n",
            "Word: дыры,, Indices: [79]\n",
            "Word: морды,, Indices: [201]\n",
            "Word: чтобы,, Indices: [227]\n",
            "Word: увы,, Indices: [255]\n",
            "Word: тот,, Indices: [94]\n",
            "Word: подумает,, Indices: [96]\n",
            "Word: находится,, Indices: [113]\n",
            "Word: провалится,, Indices: [141]\n",
            "Word: понадобится,, Indices: [229]\n",
            "Word: откроется,, Indices: [146]\n",
            "Word: щебня,, Indices: [221]\n",
            "Word: мхами,, Indices: [115]\n",
            "Word: земли,, Indices: [226]\n",
            "Word: известной,, Indices: [153]\n",
            "Word: покровом,, Indices: [205]\n",
            "Word: мог,, Indices: [211]\n",
            "Word: свободу,, Indices: [247]\n",
            "Word: и, Indices: [4, 48, 100, 140, 151, 166, 195, 235, 271]\n",
            "Word: Снаружи, Indices: [9]\n",
            "Word: трусости, Indices: [103]\n",
            "Word: расчетливости, Indices: [276]\n",
            "Word: при, Indices: [148, 152]\n",
            "Word: желании, Indices: [149]\n",
            "Word: если, Indices: [228]\n",
            "Word: вроде, Indices: [5]\n",
            "Word: не, Indices: [11, 22, 154, 181]\n",
            "Word: Мне, Indices: [170]\n",
            "Word: вполне, Indices: [183]\n",
            "Word: полусне, Indices: [193]\n",
            "Word: мне, Indices: [198]\n",
            "Word: кроме, Indices: [13]\n",
            "Word: деле, Indices: [19]\n",
            "Word: после, Indices: [41]\n",
            "Word: Не, Indices: [31]\n",
            "Word: конце, Indices: [50]\n",
            "Word: особое, Indices: [76]\n",
            "Word: ложное, Indices: [84]\n",
            "Word: достойное, Indices: [91]\n",
            "Word: входное, Indices: [215]\n",
            "Word: мое, Indices: [119, 145]\n",
            "Word: значение, Indices: [77]\n",
            "Word: рыщущие, Indices: [202]\n",
            "Word: отверстие, Indices: [216]\n",
            "Word: разве, Indices: [131]\n",
            "Word: месте, Indices: [139]\n",
            "Word: жилье, Indices: [144]\n",
            "Word: сноровке, Indices: [159]\n",
            "Word: все, Indices: [167]\n",
            "Word: даже, Indices: [175]\n",
            "Word: пониже, Indices: [223]\n",
            "Word: оскаленные, Indices: [199]\n",
            "Word: хищные, Indices: [200]\n",
            "Word: себе, Indices: [242]\n",
            "Word: бы, Indices: [6, 210]\n",
            "Word: а, Indices: [70, 147, 222]\n",
            "Word: на, Indices: [17, 75, 129, 134, 246]\n",
            "Word: она, Indices: [7]\n",
            "Word: никуда, Indices: [21]\n",
            "Word: за, Indices: [35, 87, 108]\n",
            "Word: дыра, Indices: [39]\n",
            "Word: часа, Indices: [180]\n",
            "Word: бегства, Indices: [245]\n",
            "Word: удалась., Indices: [8]\n",
            "Word: камень., Indices: [30]\n",
            "Word: порушить., Indices: [169]\n",
            "Word: продолжать., Indices: [279]\n",
            "Word: незасыпанной., Indices: [58]\n",
            "Word: обследования., Indices: [92]\n",
            "Word: постройку., Indices: [106]\n",
            "Word: мха., Indices: [208]\n",
            "Word: выход., Indices: [232]\n",
            "Word: жизни., Indices: [264]\n",
            "Word: ничего, Indices: [10]\n",
            "Word: него, Indices: [162]\n",
            "Word: большого, Indices: [14]\n",
            "Word: этого, Indices: [111]\n",
            "Word: крепкого, Indices: [220]\n",
            "Word: мгновенного, Indices: [244]\n",
            "Word: но, Indices: [16, 83]\n",
            "Word: можно, Indices: [80, 163]\n",
            "Word: то, Indices: [60, 194]\n",
            "Word: самом-то, Indices: [18]\n",
            "Word: что-то, Indices: [45]\n",
            "Word: это-то, Indices: [234]\n",
            "Word: я-то, Indices: [67]\n",
            "Word: это, Indices: [68, 171]\n",
            "Word: будто, Indices: [86, 97]\n",
            "Word: что, Indices: [132, 174, 188]\n",
            "Word: нечто, Indices: [90]\n",
            "Word: кто, Indices: [95]\n",
            "Word: часто, Indices: [157, 257]\n",
            "Word: только, Indices: [101, 272]\n",
            "Word: насколько, Indices: [124]\n",
            "Word: скоренько, Indices: [230]\n",
            "Word: Однако, Indices: [233]\n",
            "Word: что-либо, Indices: [128]\n",
            "Word: по, Indices: [190]\n",
            "Word: дело, Indices: [196]\n",
            "Word: он, Indices: [20]\n",
            "Word: неровен, Indices: [62]\n",
            "Word: ведет, Indices: [23]\n",
            "Word: будет, Indices: [164]\n",
            "Word: идет, Indices: [269]\n",
            "Word: может, Indices: [125]\n",
            "Word: требует, Indices: [240, 251]\n",
            "Word: бывает, Indices: [258]\n",
            "Word: понуждает, Indices: [277]\n",
            "Word: тут, Indices: [46, 168]\n",
            "Word: скажут, Indices: [212]\n",
            "Word: трусоват, Indices: [99]\n",
            "Word: от, Indices: [110, 274]\n",
            "Word: наступит, Indices: [133]\n",
            "Word: От, Indices: [265]\n",
            "Word: –, Indices: [24, 123, 150, 160, 252, 259]\n",
            "Word: через, Indices: [25]\n",
            "Word: из, Indices: [55, 102, 207]\n",
            "Word: раз, Indices: [238, 249]\n",
            "Word: в, Indices: [29, 49, 71, 118, 137, 161, 192]\n",
            "Word: шагов, Indices: [27]\n",
            "Word: Шагов, Indices: [107]\n",
            "Word: концов, Indices: [51]\n",
            "Word: расчетов, Indices: [267]\n",
            "Word: достигнув, Indices: [177]\n",
            "Word: хвалить, Indices: [33]\n",
            "Word: оставить, Indices: [57, 241]\n",
            "Word: жить, Indices: [260]\n",
            "Word: создать, Indices: [81]\n",
            "Word: засыпать, Indices: [214]\n",
            "Word: раскопать, Indices: [231]\n",
            "Word: быть, Indices: [126]\n",
            "Word: проникнуть, Indices: [165]\n",
            "Word: предосторожность, Indices: [239, 250]\n",
            "Word: возможность, Indices: [243]\n",
            "Word: осталась, Indices: [40]\n",
            "Word: перехитришь, Indices: [64]\n",
            "Word: кто-нибудь, Indices: [136]\n",
            "Word: ведь, Indices: [186]\n",
            "Word: хитрость:, Indices: [38]\n",
            "Word: уязвим:, Indices: [189]\n",
            "Word: их, Indices: [278]\n",
            "Word: многих, Indices: [42]\n",
            "Word: таких, Indices: [266]\n",
            "Word: тщетных, Indices: [43]\n",
            "Word: мох, Indices: [135]\n",
            "Word: попыток, Indices: [44]\n",
            "Word: так, Indices: [155, 173]\n",
            "Word: как, Indices: [237, 248, 253]\n",
            "Word: решил, Indices: [53]\n",
            "Word: затеял, Indices: [104]\n",
            "Word: дыр, Indices: [56]\n",
            "Word: А, Indices: [59]\n",
            "Word: данном, Indices: [72]\n",
            "Word: этом, Indices: [138]\n",
            "Word: слишком, Indices: [256]\n",
            "Word: риском, Indices: [262]\n",
            "Word: кругом, Indices: [268]\n",
            "Word: надежным, Indices: [127]\n",
            "Word: сотканным, Indices: [206]\n",
            "Word: ночам, Indices: [191]\n",
            "Word: моим, Indices: [204]\n",
            "Word: тонким, Indices: [218]\n",
            "Word: слоем, Indices: [219, 224]\n",
            "Word: этой, Indices: [78]\n",
            "Word: рыхлой, Indices: [225]\n",
            "Word: собственной, Indices: [275]\n",
            "Word: ней, Indices: [88]\n",
            "Word: прикрытый, Indices: [114]\n",
            "Word: надежный, Indices: [122]\n",
            "Word: настоящий, Indices: [116]\n",
            "Word: вход, Indices: [117, 121]\n",
            "Word: над, Indices: [203]\n",
            "Word: свете;, Indices: [130]\n",
            "Word: спокойного;, Indices: [184]\n",
            "Word: невозможно;, Indices: [236]\n",
            "Word: уж, Indices: [156]\n",
            "Word: Я, Indices: [209]\n",
            "Word: с, Indices: [261]\n",
            "Word: восторг, Indices: [273]\n"
          ]
        }
      ]
    }
  ]
}